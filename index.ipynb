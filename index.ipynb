{
 "cells": [
  {
   "cell_type": "markdown",
   "metadata": {},
   "source": [
    "# NAME: ADENIYI PRECIOUS ADEWALE \n",
    "\n",
    "\n",
    "# MATRIC NUMBER NUMBER: 220590\n",
    "\n",
    "\n",
    "\n",
    "# LEVEL: NID II\n",
    "\n",
    "\n",
    "# COURSE TITLE: DATA STRUCTURE & ALGORITHMS"
   ]
  },
  {
   "cell_type": "markdown",
   "metadata": {},
   "source": [
    "# Section A - DATA STRUCTURES \n",
    "\n",
    "\n",
    "1. what are strings are and list and explain 5 string methods\n",
    "\n",
    "# answer :\n",
    "\n",
    "\n",
    "\n",
    "*Strings* are sequences of characters, such as letters, numbers, and symbols, that are used to represent text in programming. In Python, strings are immutable, which means they cannot be changed once they are created.  \n",
    " \n",
    "Here are five common string methods in Python  that I know: \n",
    " \n",
    "1. upper() This method returns a copy of the string with all the characters converted to uppercase.\n",
    "\n",
    "\n",
    "\n",
    "text = \"hello world\"\n",
    "print(text.upper()) \n",
    "\n",
    "\n",
    "2. lower(): This method returns a copy of the string with all the characters converted to lowercase.\n",
    "\n",
    "\n",
    "\n",
    "text = \"Hello World\"\n",
    "print(text.lower()) \n",
    "\n",
    "Output: hello world\n",
    "\n",
    "\n",
    "3. strip(): This method removes any leading (spaces at the beginning) and trailing (spaces at the end) characters.\n",
    "python\n",
    "\n",
    "\n",
    "text = \"   Hello World   \"\n",
    "print(text.strip())  \n",
    "\n",
    "Output: Hello World\n",
    "\n",
    "4. split(): This method splits the string into a list of substrings based on a specified delimiter. By default, it splits on whitespace.\n",
    "\n",
    "\n",
    "\n",
    "\n",
    "text = \"Hello,World,Python\"\n",
    "\n",
    "print(text.split(\",\"))   \n",
    "\n",
    "Output: ['Hello', 'World', 'Python']\n",
    "\n",
    "5. replace() : This method replaces a specified substring with another substring in the string.\n",
    "\n",
    "\n",
    "\n",
    "text = \"Hello World\"\n",
    "\n",
    "new_text = text.replace(\"World\", \"Python\")\n",
    "\n",
    "print(new_text)  \n",
    "\n",
    "Output: Hello Python\n",
    "\n",
    "\n"
   ]
  },
  {
   "cell_type": "markdown",
   "metadata": {},
   "source": []
  },
  {
   "cell_type": "markdown",
   "metadata": {},
   "source": [
    "# SECTION B - ALGORITHMS"
   ]
  },
  {
   "cell_type": "code",
   "execution_count": 1,
   "metadata": {},
   "outputs": [
    {
     "name": "stdout",
     "output_type": "stream",
     "text": [
      "cartoon 1 - noodle 1\n",
      "cartoon 1 - noodle 2\n",
      "cartoon 2 - noodle 1\n",
      "cartoon 2 - noodle 2\n",
      "cartoon 3 - noodle 1\n",
      "cartoon 3 - noodle 2\n"
     ]
    }
   ],
   "source": [
    "# SECTION B - ALGORITHMS\n",
    "\n",
    "# QUESTION 4\n",
    "\n",
    "def arrange_noodles(x, y):\n",
    "    for i in range(1, x + 1):\n",
    "        for j in range(1, y + 1):\n",
    "            print(f\"cartoon {i} - noodle {j}\")\n",
    "\n",
    "x = 3  \n",
    "y = 2  \n",
    "\n",
    "arrange_noodles(x, y)\n"
   ]
  },
  {
   "cell_type": "markdown",
   "metadata": {},
   "source": [
    "*5.*\n",
    "create  a function  that check if a word is palindrome. A palindrome is a word that if spelt backwards returns the same word. For example racecar spelt backwards is racecar. Sane with mom and noon. your function will return either it is a palindrome or its not a plaindrome"
   ]
  },
  {
   "cell_type": "code",
   "execution_count": 2,
   "metadata": {},
   "outputs": [
    {
     "name": "stdout",
     "output_type": "stream",
     "text": [
      "racecar is a palindrome.\n",
      "hello is not a palindrome.\n",
      "mom is a palindrome.\n"
     ]
    }
   ],
   "source": [
    "# SECTION B - ALGORITHMS\n",
    "\n",
    "# QUESTION 5\n",
    "\n",
    "def is_palindrome(word):\n",
    "    word = word.lower()\n",
    "    \n",
    "  \n",
    "    if word == word[::-1]:\n",
    "        return f\"{word} is a palindrome.\"\n",
    "    else:\n",
    "        return f\"{word} is not a palindrome.\"\n",
    "\n",
    "\n",
    "print(is_palindrome(\"racecar\"))  \n",
    "print(is_palindrome(\"hello\"))    \n",
    "print(is_palindrome(\"Mom\"))      \n"
   ]
  },
  {
   "cell_type": "code",
   "execution_count": 3,
   "metadata": {},
   "outputs": [
    {
     "name": "stdout",
     "output_type": "stream",
     "text": [
      "Minimum: 1, Maximum: 9, Sum: 29, Average: 4.142857142857143\n"
     ]
    }
   ],
   "source": [
    "# SECTION B - ALGORITHMS\n",
    "\n",
    "# QUESTION 7\n",
    "\n",
    "\n",
    "def evaluate_array(arr):\n",
    "    if not arr:\n",
    "        return \"Array is empty\"\n",
    "    \n",
    "    min_num = min(arr)\n",
    "    max_num = max(arr)\n",
    "    sum_num = sum(arr)\n",
    "    avg_num = sum_num / len(arr)\n",
    "    \n",
    "    return f\"Minimum: {min_num}, Maximum: {max_num}, Sum: {sum_num}, Average: {avg_num}\"\n",
    "\n",
    "\n",
    "numbers = [2, 1, 7, 3, 2, 9, 5]\n",
    "\n",
    "result = evaluate_array(numbers)\n",
    "print(result)\n"
   ]
  }
 ],
 "metadata": {
  "kernelspec": {
   "display_name": "base",
   "language": "python",
   "name": "python3"
  },
  "language_info": {
   "codemirror_mode": {
    "name": "ipython",
    "version": 3
   },
   "file_extension": ".py",
   "mimetype": "text/x-python",
   "name": "python",
   "nbconvert_exporter": "python",
   "pygments_lexer": "ipython3",
   "version": "3.11.5"
  }
 },
 "nbformat": 4,
 "nbformat_minor": 2
}
